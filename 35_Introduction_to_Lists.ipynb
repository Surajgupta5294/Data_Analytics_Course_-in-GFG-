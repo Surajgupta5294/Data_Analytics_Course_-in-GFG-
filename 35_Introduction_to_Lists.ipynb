{
  "nbformat": 4,
  "nbformat_minor": 0,
  "metadata": {
    "colab": {
      "provenance": [],
      "authorship_tag": "ABX9TyPBGnAF9rl+8dyYtvMxiy97",
      "include_colab_link": true
    },
    "kernelspec": {
      "name": "python3",
      "display_name": "Python 3"
    },
    "language_info": {
      "name": "python"
    }
  },
  "cells": [
    {
      "cell_type": "markdown",
      "metadata": {
        "id": "view-in-github",
        "colab_type": "text"
      },
      "source": [
        "<a href=\"https://colab.research.google.com/github/Surajgupta5294/Data_Analytics_Course_-in-GFG-/blob/main/35_Introduction_to_Lists.ipynb\" target=\"_parent\"><img src=\"https://colab.research.google.com/assets/colab-badge.svg\" alt=\"Open In Colab\"/></a>"
      ]
    },
    {
      "cell_type": "markdown",
      "source": [
        "## Introduction to Lists"
      ],
      "metadata": {
        "id": "ehAYGvb8I6XS"
      }
    },
    {
      "cell_type": "code",
      "execution_count": null,
      "metadata": {
        "colab": {
          "base_uri": "https://localhost:8080/"
        },
        "id": "qAe7o4vyItcf",
        "outputId": "040156a6-6364-4730-a54f-10f56b771151"
      },
      "outputs": [
        {
          "output_type": "stream",
          "name": "stdout",
          "text": [
            "['suraj', 'Ansh', 'Amit', 'Ashish', 'Anil', 'roy']\n"
          ]
        }
      ],
      "source": [
        "list =['suraj','Ansh','Amit','Ashish','Anil','roy']\n",
        "print(list)\n"
      ]
    },
    {
      "cell_type": "markdown",
      "source": [
        "### Acess the Elements Throush Indexing"
      ],
      "metadata": {
        "id": "swM7lO8YK7nP"
      }
    },
    {
      "cell_type": "code",
      "source": [
        "print(list[0])\n",
        "print(list[4])\n",
        "print(list[-1])\n",
        "print(list[-2])"
      ],
      "metadata": {
        "colab": {
          "base_uri": "https://localhost:8080/"
        },
        "id": "vleIB6AlKMAY",
        "outputId": "32b85ec0-6169-47bb-b633-0590d94d72e4"
      },
      "execution_count": null,
      "outputs": [
        {
          "output_type": "stream",
          "name": "stdout",
          "text": [
            "suraj\n",
            "Anil\n",
            "roy\n",
            "Anil\n"
          ]
        }
      ]
    },
    {
      "cell_type": "markdown",
      "source": [
        "###Modify the values"
      ],
      "metadata": {
        "id": "3jLAwAsGLrJA"
      }
    },
    {
      "cell_type": "code",
      "source": [
        "print(list)\n",
        "list[2] = 'Priya'\n",
        "print(list)"
      ],
      "metadata": {
        "colab": {
          "base_uri": "https://localhost:8080/"
        },
        "id": "_uL0A1-mKMDz",
        "outputId": "e6b28895-ee19-4aee-e123-a62e34e19ec0"
      },
      "execution_count": null,
      "outputs": [
        {
          "output_type": "stream",
          "name": "stdout",
          "text": [
            "['suraj', 'Ansh', 'Priya', 'Ashish', 'Anil', 'roy']\n",
            "-----\n",
            "['suraj', 'Ansh', 'Priya', 'Ashish', 'Anil', 'roy']\n"
          ]
        }
      ]
    },
    {
      "cell_type": "markdown",
      "source": [
        "### Reverse a string"
      ],
      "metadata": {
        "id": "bl7TLDctMH7W"
      }
    },
    {
      "cell_type": "code",
      "source": [
        "print(list)\n",
        "print(list[::-1])\n",
        "\n"
      ],
      "metadata": {
        "colab": {
          "base_uri": "https://localhost:8080/"
        },
        "id": "bg_6Kue2KMK3",
        "outputId": "84212a47-3a4e-4c24-87e6-3ab0ebcb8f8c"
      },
      "execution_count": null,
      "outputs": [
        {
          "output_type": "stream",
          "name": "stdout",
          "text": [
            "['suraj', 'Ansh', 'Priya', 'Ashish', 'Anil', 'roy']\n",
            "['roy', 'Anil', 'Ashish', 'Priya', 'Ansh', 'suraj']\n"
          ]
        }
      ]
    },
    {
      "cell_type": "markdown",
      "source": [
        "## Appending"
      ],
      "metadata": {
        "id": "RbtjB90YMtYf"
      }
    },
    {
      "cell_type": "code",
      "source": [
        "print(list)\n",
        "list.append('Ankit')\n",
        "print(list)"
      ],
      "metadata": {
        "colab": {
          "base_uri": "https://localhost:8080/"
        },
        "id": "4ABz1rtyKMOY",
        "outputId": "f3721e50-d098-44a2-84f7-219336c604c6"
      },
      "execution_count": null,
      "outputs": [
        {
          "output_type": "stream",
          "name": "stdout",
          "text": [
            "['suraj', 'Ansh', 'Priya', 'Ashish', 'Anil', 'roy']\n",
            "['suraj', 'Ansh', 'Priya', 'Ashish', 'Anil', 'roy', 'Ankit']\n"
          ]
        }
      ]
    },
    {
      "cell_type": "markdown",
      "source": [
        "## Removing"
      ],
      "metadata": {
        "id": "0e74Uq2ENBCd"
      }
    },
    {
      "cell_type": "code",
      "source": [
        "print(list)\n",
        "list.remove('Ankit')\n",
        "print(list)"
      ],
      "metadata": {
        "colab": {
          "base_uri": "https://localhost:8080/"
        },
        "id": "tc9VnUtJNAkZ",
        "outputId": "09b50e7f-19b7-4820-e51a-f11a8a5c5f69"
      },
      "execution_count": null,
      "outputs": [
        {
          "output_type": "stream",
          "name": "stdout",
          "text": [
            "['suraj', 'Ansh', 'Priya', 'Ashish', 'Anil', 'roy', 'Ankit']\n",
            "['suraj', 'Ansh', 'Priya', 'Ashish', 'Anil', 'roy']\n"
          ]
        }
      ]
    },
    {
      "cell_type": "markdown",
      "source": [
        "## Length"
      ],
      "metadata": {
        "id": "liZY9YfKNV9T"
      }
    },
    {
      "cell_type": "code",
      "source": [
        "print(list)\n",
        "print(len(list))"
      ],
      "metadata": {
        "colab": {
          "base_uri": "https://localhost:8080/"
        },
        "id": "vUtujlelNZ2-",
        "outputId": "11635bc1-efa2-4893-d8f9-3992916f9bab"
      },
      "execution_count": null,
      "outputs": [
        {
          "output_type": "stream",
          "name": "stdout",
          "text": [
            "['suraj', 'Ansh', 'Priya', 'Ashish', 'Anil', 'roy']\n",
            "6\n"
          ]
        }
      ]
    },
    {
      "cell_type": "markdown",
      "source": [
        "## Sorting"
      ],
      "metadata": {
        "id": "opwxSNB3NAPM"
      }
    },
    {
      "cell_type": "code",
      "source": [
        "lst =[3,5,7,9,2,23,67,89,14,1,0]\n",
        "print(lst)\n",
        "print(sorted(lst))\n"
      ],
      "metadata": {
        "colab": {
          "base_uri": "https://localhost:8080/"
        },
        "id": "oM9hSrd-OA7W",
        "outputId": "67a66c9a-6dbb-4173-9727-314c05881fbd"
      },
      "execution_count": null,
      "outputs": [
        {
          "output_type": "stream",
          "name": "stdout",
          "text": [
            "[3, 5, 7, 9, 2, 23, 67, 89, 14, 1, 0]\n",
            "[0, 1, 2, 3, 5, 7, 9, 14, 23, 67, 89]\n"
          ]
        }
      ]
    },
    {
      "cell_type": "markdown",
      "source": [
        "## Finding the Element"
      ],
      "metadata": {
        "id": "l6m0rZo6Ofc4"
      }
    },
    {
      "cell_type": "code",
      "source": [
        "lst =['suraj','Ansh','Amit','Ashish','Anil','roy']\n",
        "print(lst.index('Amit'))"
      ],
      "metadata": {
        "colab": {
          "base_uri": "https://localhost:8080/"
        },
        "id": "RCzIcwnwOggT",
        "outputId": "2b3f88f6-a9db-4381-c2c2-1e4a8895ba88"
      },
      "execution_count": null,
      "outputs": [
        {
          "output_type": "stream",
          "name": "stdout",
          "text": [
            "2\n"
          ]
        }
      ]
    },
    {
      "cell_type": "markdown",
      "source": [
        "## count"
      ],
      "metadata": {
        "id": "2QIi90jvPLln"
      }
    },
    {
      "cell_type": "code",
      "source": [
        "lst =['suraj','Ansh','Amit','Ashish','Anil','roy','Amit']\n",
        "print(lst.count('Amit'))"
      ],
      "metadata": {
        "colab": {
          "base_uri": "https://localhost:8080/"
        },
        "id": "j45lAJFJOiug",
        "outputId": "0d6f7ecb-45f3-4ae6-d563-5d31d94696df"
      },
      "execution_count": null,
      "outputs": [
        {
          "output_type": "stream",
          "name": "stdout",
          "text": [
            "2\n"
          ]
        }
      ]
    },
    {
      "cell_type": "markdown",
      "source": [
        "### Finding Maximum And Minimum\n"
      ],
      "metadata": {
        "id": "WwBVM5P2qQjc"
      }
    },
    {
      "cell_type": "code",
      "source": [
        "lst =[3,5,7,9,2,23,67,89,14,1,0]\n",
        "print(lst)\n",
        "print(max(lst))\n",
        "print(min(lst))\n",
        "\n"
      ],
      "metadata": {
        "id": "m6In88Z8Oiw0",
        "colab": {
          "base_uri": "https://localhost:8080/"
        },
        "outputId": "3f983e72-1252-435f-93b2-e0324ac492f3"
      },
      "execution_count": null,
      "outputs": [
        {
          "output_type": "stream",
          "name": "stdout",
          "text": [
            "[3, 5, 7, 9, 2, 23, 67, 89, 14, 1, 0]\n",
            "89\n",
            "0\n"
          ]
        }
      ]
    },
    {
      "cell_type": "markdown",
      "source": [
        "### Iterating the Elements to list"
      ],
      "metadata": {
        "id": "KvZdLh4DssXe"
      }
    },
    {
      "cell_type": "code",
      "source": [
        "print(lst)\n",
        "\n",
        "for i in lst:\n",
        "   print(i)"
      ],
      "metadata": {
        "id": "lYcFrzO2OizU",
        "colab": {
          "base_uri": "https://localhost:8080/"
        },
        "outputId": "8441711c-1fa3-408c-e631-e971890189a9"
      },
      "execution_count": null,
      "outputs": [
        {
          "output_type": "stream",
          "name": "stdout",
          "text": [
            "[3, 5, 7, 9, 2, 23, 67, 89, 14, 1, 0]\n",
            "3\n",
            "5\n",
            "7\n",
            "9\n",
            "2\n",
            "23\n",
            "67\n",
            "89\n",
            "14\n",
            "1\n",
            "0\n"
          ]
        }
      ]
    },
    {
      "cell_type": "markdown",
      "source": [
        "### Iterating the Elements to list | Indeing"
      ],
      "metadata": {
        "id": "HFoqxyEhtOvr"
      }
    },
    {
      "cell_type": "code",
      "source": [
        "print(lst)\n",
        "\n",
        "for i in range(len(lst)):\n",
        "   print(i,lst[i])"
      ],
      "metadata": {
        "id": "0DXSvAjUOi3e",
        "colab": {
          "base_uri": "https://localhost:8080/"
        },
        "outputId": "9c3c2f24-31f6-44a2-85d7-0597e8441012"
      },
      "execution_count": null,
      "outputs": [
        {
          "output_type": "stream",
          "name": "stdout",
          "text": [
            "[3, 5, 7, 9, 2, 23, 67, 89, 14, 1, 0]\n",
            "0 3\n",
            "1 5\n",
            "2 7\n",
            "3 9\n",
            "4 2\n",
            "5 23\n",
            "6 67\n",
            "7 89\n",
            "8 14\n",
            "9 1\n",
            "10 0\n"
          ]
        }
      ]
    },
    {
      "cell_type": "markdown",
      "source": [
        "### Iterating the Elements to list | Reverse"
      ],
      "metadata": {
        "id": "0egk9gNmt8t2"
      }
    },
    {
      "cell_type": "code",
      "source": [
        "print(lst)\n",
        "\n",
        "for i in range(len(lst)-1,-1,-1):\n",
        "   print(i,lst[i])"
      ],
      "metadata": {
        "id": "TjpJYjYROi63",
        "colab": {
          "base_uri": "https://localhost:8080/"
        },
        "outputId": "1a36bb95-eab3-455d-ca46-157f928543f3"
      },
      "execution_count": null,
      "outputs": [
        {
          "output_type": "stream",
          "name": "stdout",
          "text": [
            "[3, 5, 7, 9, 2, 23, 67, 89, 14, 1, 0]\n",
            "10 0\n",
            "9 1\n",
            "8 14\n",
            "7 89\n",
            "6 67\n",
            "5 23\n",
            "4 2\n",
            "3 9\n",
            "2 7\n",
            "1 5\n",
            "0 3\n"
          ]
        }
      ]
    }
  ]
}