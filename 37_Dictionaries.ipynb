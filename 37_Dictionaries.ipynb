{
  "nbformat": 4,
  "nbformat_minor": 0,
  "metadata": {
    "colab": {
      "provenance": [],
      "authorship_tag": "ABX9TyMnoe3ICQFZ9yZiOj71gvvE",
      "include_colab_link": true
    },
    "kernelspec": {
      "name": "python3",
      "display_name": "Python 3"
    },
    "language_info": {
      "name": "python"
    }
  },
  "cells": [
    {
      "cell_type": "markdown",
      "metadata": {
        "id": "view-in-github",
        "colab_type": "text"
      },
      "source": [
        "<a href=\"https://colab.research.google.com/github/Surajgupta5294/Data_Analytics_Course_-in-GFG-/blob/main/37_Dictionaries.ipynb\" target=\"_parent\"><img src=\"https://colab.research.google.com/assets/colab-badge.svg\" alt=\"Open In Colab\"/></a>"
      ]
    },
    {
      "cell_type": "markdown",
      "source": [
        "# Dictionaries\n"
      ],
      "metadata": {
        "id": "WO3o2Lzmgk7l"
      }
    },
    {
      "cell_type": "markdown",
      "source": [
        "### Initializing the Dictionaries"
      ],
      "metadata": {
        "id": "CTYOuBsDsn2z"
      }
    },
    {
      "cell_type": "code",
      "execution_count": 16,
      "metadata": {
        "colab": {
          "base_uri": "https://localhost:8080/"
        },
        "id": "66_9qJI7bxNL",
        "outputId": "bb0af30d-f003-4609-cd54-94c057b3a01d"
      },
      "outputs": [
        {
          "output_type": "stream",
          "name": "stdout",
          "text": [
            "{1: 'Suraj', 2: 'Jay', 3: 'Virat', 4: 'Ansh', 5: 'Divyansh'}\n"
          ]
        }
      ],
      "source": [
        "dct = {1:\"Suraj\", 2:\"Jay\", 3:\"Virat\", 4:\"Ansh\" , 5:\"Divyansh\"}\n",
        "print(dct)"
      ]
    },
    {
      "cell_type": "markdown",
      "source": [
        "### Accessing the elements"
      ],
      "metadata": {
        "id": "sXg7guzin1xJ"
      }
    },
    {
      "cell_type": "code",
      "source": [
        "print(dct)\n",
        "print(dct[1])\n",
        "print(dct[3])\n",
        "print(dct.get(1))"
      ],
      "metadata": {
        "colab": {
          "base_uri": "https://localhost:8080/"
        },
        "id": "L4fbfArztsIc",
        "outputId": "f8d9beba-a033-4fbc-d562-7cf801535a14"
      },
      "execution_count": 17,
      "outputs": [
        {
          "output_type": "stream",
          "name": "stdout",
          "text": [
            "{1: 'Suraj', 2: 'Jay', 3: 'Virat', 4: 'Ansh', 5: 'Divyansh'}\n",
            "Suraj\n",
            "Virat\n",
            "Suraj\n"
          ]
        }
      ]
    },
    {
      "cell_type": "markdown",
      "source": [
        "### Adding and updating tha key-values pairs"
      ],
      "metadata": {
        "id": "jJY9xeZCuFTi"
      }
    },
    {
      "cell_type": "code",
      "source": [
        "print(dct)\n",
        "dct[6]=\"Arjun\"\n",
        "print(dct)\n",
        "dct[6]=\"Arun\"\n",
        "print(dct)\n",
        "del dct[6]\n",
        "print(dct)\n"
      ],
      "metadata": {
        "colab": {
          "base_uri": "https://localhost:8080/"
        },
        "id": "flxk12XyuStN",
        "outputId": "f353a377-242f-4ae1-fc7a-8222c8d57dbb"
      },
      "execution_count": 15,
      "outputs": [
        {
          "output_type": "stream",
          "name": "stdout",
          "text": [
            "{1: 'Shubham', 2: 'shivan', 3: 'Raju', 4: 'Anshu', 5: 'Divyansh'}\n",
            "{1: 'Shubham', 2: 'shivan', 3: 'Raju', 4: 'Anshu', 5: 'Divyansh', 6: 'Arundati'}\n",
            "{1: 'Shubham', 2: 'shivan', 3: 'Raju', 4: 'Anshu', 5: 'Divyansh', 6: 'Arundati'}\n",
            "{1: 'Shubham', 2: 'shivan', 3: 'Raju', 4: 'Anshu', 5: 'Divyansh'}\n"
          ]
        }
      ]
    },
    {
      "cell_type": "markdown",
      "source": [
        "### Cleaning the Dictionary"
      ],
      "metadata": {
        "id": "pJNBCBw9u8tE"
      }
    },
    {
      "cell_type": "code",
      "source": [
        "print(dct)\n",
        "dct.clear()\n",
        "print(dct)"
      ],
      "metadata": {
        "colab": {
          "base_uri": "https://localhost:8080/"
        },
        "id": "cMMXheq1vHcN",
        "outputId": "df3b4830-9bce-4430-e4ac-0c47a07a486c"
      },
      "execution_count": 18,
      "outputs": [
        {
          "output_type": "stream",
          "name": "stdout",
          "text": [
            "{1: 'Suraj', 2: 'Jay', 3: 'Virat', 4: 'Ansh', 5: 'Divyansh'}\n",
            "{}\n"
          ]
        }
      ]
    },
    {
      "cell_type": "markdown",
      "source": [
        "### Iterating through the Dictionary"
      ],
      "metadata": {
        "id": "bCxIQXSIvUCp"
      }
    },
    {
      "cell_type": "code",
      "source": [
        "dct = {1:\"Suraj\", 2:\"Jay\", 3:\"Virat\", 4:\"Ansh\" , 5:\"Divyansh\"}\n",
        "print(dct)\n",
        "print(dct.keys())\n",
        "print(dct.values())\n",
        "\n",
        "for k in dct.keys():\n",
        "  print(k,dct[k])\n",
        "\n",
        "print(dct.items())\n",
        "for k,v in dct.items():\n",
        "  print(k,v)"
      ],
      "metadata": {
        "colab": {
          "base_uri": "https://localhost:8080/"
        },
        "id": "DZrduz60veqz",
        "outputId": "9b4e52ed-3805-49c2-e359-b60206fc3eea"
      },
      "execution_count": 19,
      "outputs": [
        {
          "output_type": "stream",
          "name": "stdout",
          "text": [
            "{1: 'Suraj', 2: 'Jay', 3: 'Virat', 4: 'Ansh', 5: 'Divyansh'}\n",
            "dict_keys([1, 2, 3, 4, 5])\n",
            "dict_values(['Suraj', 'Jay', 'Virat', 'Ansh', 'Divyansh'])\n",
            "1 Suraj\n",
            "2 Jay\n",
            "3 Virat\n",
            "4 Ansh\n",
            "5 Divyansh\n",
            "dict_items([(1, 'Suraj'), (2, 'Jay'), (3, 'Virat'), (4, 'Ansh'), (5, 'Divyansh')])\n",
            "1 Suraj\n",
            "2 Jay\n",
            "3 Virat\n",
            "4 Ansh\n",
            "5 Divyansh\n"
          ]
        }
      ]
    },
    {
      "cell_type": "markdown",
      "source": [
        "### check if key is present"
      ],
      "metadata": {
        "id": "2Zl4-WZbx9Qb"
      }
    },
    {
      "cell_type": "code",
      "source": [
        "print(dct)\n",
        "print(1 in dct)\n",
        "print('1' in dct)"
      ],
      "metadata": {
        "colab": {
          "base_uri": "https://localhost:8080/"
        },
        "id": "geYOTqtkyHbh",
        "outputId": "859e5eaf-ba2d-476f-a28b-e7752939430e"
      },
      "execution_count": 20,
      "outputs": [
        {
          "output_type": "stream",
          "name": "stdout",
          "text": [
            "{1: 'Suraj', 2: 'Jay', 3: 'Virat', 4: 'Ansh', 5: 'Divyansh'}\n",
            "True\n",
            "False\n"
          ]
        }
      ]
    },
    {
      "cell_type": "markdown",
      "source": [
        "### dct Updating the Dictionaries"
      ],
      "metadata": {
        "id": "bzNe3qNyyeG3"
      }
    },
    {
      "cell_type": "code",
      "source": [
        "dct_1 = {1:\"A\", 2:\"B\", 3:\"C\"}\n",
        "dct_2 = {1:\"a\", 2:\"b\", 3:\"c\"}\n",
        "print(dct_1)\n",
        "print(dct_2)\n",
        "dct_1.update(dct_2)\n",
        "print(dct_1)\n",
        "print(dct_2)\n",
        "\n",
        "\n"
      ],
      "metadata": {
        "colab": {
          "base_uri": "https://localhost:8080/"
        },
        "id": "Da4rkHtkyoOB",
        "outputId": "da00e58d-bdee-4ccd-ba0a-14ca7328462e"
      },
      "execution_count": 21,
      "outputs": [
        {
          "output_type": "stream",
          "name": "stdout",
          "text": [
            "{1: 'A', 2: 'B', 3: 'C'}\n",
            "{1: 'a', 2: 'b', 3: 'c'}\n",
            "{1: 'a', 2: 'b', 3: 'c'}\n",
            "{1: 'a', 2: 'b', 3: 'c'}\n"
          ]
        }
      ]
    }
  ]
}
