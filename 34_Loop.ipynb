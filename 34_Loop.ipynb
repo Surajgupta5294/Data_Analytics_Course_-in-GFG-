{
  "nbformat": 4,
  "nbformat_minor": 0,
  "metadata": {
    "colab": {
      "provenance": [],
      "authorship_tag": "ABX9TyNUqLtUJdRd1zEAcj9lMb6I",
      "include_colab_link": true
    },
    "kernelspec": {
      "name": "python3",
      "display_name": "Python 3"
    },
    "language_info": {
      "name": "python"
    }
  },
  "cells": [
    {
      "cell_type": "markdown",
      "metadata": {
        "id": "view-in-github",
        "colab_type": "text"
      },
      "source": [
        "<a href=\"https://colab.research.google.com/github/Surajgupta5294/Data_Analytics_Course_-in-GFG-/blob/main/34_Loop.ipynb\" target=\"_parent\"><img src=\"https://colab.research.google.com/assets/colab-badge.svg\" alt=\"Open In Colab\"/></a>"
      ]
    },
    {
      "cell_type": "markdown",
      "source": [
        "# Loop\n"
      ],
      "metadata": {
        "id": "00iLMDVyVlYJ"
      }
    },
    {
      "cell_type": "markdown",
      "source": [
        "###1.Print the Table  from 1 to n using a for loop."
      ],
      "metadata": {
        "id": "x6g5n_ydoET3"
      }
    },
    {
      "cell_type": "code",
      "source": [
        "n = int(input(\"Enter the number\"))\n",
        "for i in range(1,11):\n",
        "  print(n,'*',1,'=',n*i)"
      ],
      "metadata": {
        "id": "MiygNIkdZ8Ii",
        "colab": {
          "base_uri": "https://localhost:8080/"
        },
        "outputId": "eb219879-b6fb-4c41-db23-ba28f1cf22ff"
      },
      "execution_count": null,
      "outputs": [
        {
          "output_type": "stream",
          "name": "stdout",
          "text": [
            "Enter the number2\n",
            "2 * 1 = 2\n",
            "2 * 1 = 4\n",
            "2 * 1 = 6\n",
            "2 * 1 = 8\n",
            "2 * 1 = 10\n",
            "2 * 1 = 12\n",
            "2 * 1 = 14\n",
            "2 * 1 = 16\n",
            "2 * 1 = 18\n",
            "2 * 1 = 20\n"
          ]
        }
      ]
    },
    {
      "cell_type": "code",
      "source": [
        "n = 19\n",
        "for i in range(19,191,19):\n",
        "  print(i)\n"
      ],
      "metadata": {
        "id": "CiwtniTRVp0t",
        "colab": {
          "base_uri": "https://localhost:8080/"
        },
        "outputId": "511c3687-e55b-48b9-ae9c-5ddd811dfde8"
      },
      "execution_count": null,
      "outputs": [
        {
          "output_type": "stream",
          "name": "stdout",
          "text": [
            "19\n",
            "38\n",
            "57\n",
            "76\n",
            "95\n",
            "114\n",
            "133\n",
            "152\n",
            "171\n",
            "190\n"
          ]
        }
      ]
    },
    {
      "cell_type": "code",
      "source": [
        "n = 19\n",
        "for i in range(n,n*10+1,n):\n",
        "  print(i)"
      ],
      "metadata": {
        "id": "bRqQGUFTZl2H",
        "colab": {
          "base_uri": "https://localhost:8080/"
        },
        "outputId": "8fb2254e-bfde-4ae8-9f70-0e4cbbfda595"
      },
      "execution_count": null,
      "outputs": [
        {
          "output_type": "stream",
          "name": "stdout",
          "text": [
            "19\n",
            "38\n",
            "57\n",
            "76\n",
            "95\n",
            "114\n",
            "133\n",
            "152\n",
            "171\n",
            "190\n"
          ]
        }
      ]
    },
    {
      "cell_type": "markdown",
      "source": [
        "##opposite"
      ],
      "metadata": {
        "id": "-oBcIg1ib68p"
      }
    },
    {
      "cell_type": "code",
      "source": [
        "n = 19\n",
        "for i in range(10,0,-1):\n",
        "  print(n*i)"
      ],
      "metadata": {
        "id": "7EQ4S5Waa7S6",
        "colab": {
          "base_uri": "https://localhost:8080/"
        },
        "outputId": "167035cf-553d-4ef1-84ac-1a97c0402906"
      },
      "execution_count": null,
      "outputs": [
        {
          "output_type": "stream",
          "name": "stdout",
          "text": [
            "190\n",
            "171\n",
            "152\n",
            "133\n",
            "114\n",
            "95\n",
            "76\n",
            "57\n",
            "38\n",
            "19\n"
          ]
        }
      ]
    },
    {
      "cell_type": "code",
      "source": [
        "n = 13\n",
        "for i in range(n*10,n-1,-n):\n",
        "  print(n*i)"
      ],
      "metadata": {
        "id": "zhubMnvJbl0D",
        "colab": {
          "base_uri": "https://localhost:8080/"
        },
        "outputId": "a7dbfb39-3f72-4276-95ae-a5efcf80ddcd"
      },
      "execution_count": null,
      "outputs": [
        {
          "output_type": "stream",
          "name": "stdout",
          "text": [
            "1690\n",
            "1521\n",
            "1352\n",
            "1183\n",
            "1014\n",
            "845\n",
            "676\n",
            "507\n",
            "338\n",
            "169\n"
          ]
        }
      ]
    },
    {
      "cell_type": "markdown",
      "source": [
        "### 2.Calculate the sum of the first 100 natural numbers."
      ],
      "metadata": {
        "id": "5VqebSEYVLjU"
      }
    },
    {
      "cell_type": "code",
      "source": [
        "sum = 0\n",
        "for i in range(1, 100):\n",
        "    sum += i\n",
        "print(\"Sum:\", sum)\n"
      ],
      "metadata": {
        "colab": {
          "base_uri": "https://localhost:8080/"
        },
        "id": "9RIx9Gv0dBcq",
        "outputId": "1ee58b86-2d67-4d3a-feb0-433b3ce32342"
      },
      "execution_count": null,
      "outputs": [
        {
          "output_type": "stream",
          "name": "stdout",
          "text": [
            "Sum: 4950\n"
          ]
        }
      ]
    },
    {
      "cell_type": "code",
      "source": [
        "n=5\n",
        "s= n*((n+1)/2)\n",
        "print (s)"
      ],
      "metadata": {
        "colab": {
          "base_uri": "https://localhost:8080/"
        },
        "id": "rB6AiuV3f3qK",
        "outputId": "dff1a2b3-3045-4f0c-fb5a-d02be0f88aeb"
      },
      "execution_count": null,
      "outputs": [
        {
          "output_type": "stream",
          "name": "stdout",
          "text": [
            "15.0\n"
          ]
        }
      ]
    },
    {
      "cell_type": "markdown",
      "source": [
        "###3. Print the number which divisible by 5 & 7 from 1 to 100."
      ],
      "metadata": {
        "id": "3blsd2-SpX29"
      }
    },
    {
      "cell_type": "code",
      "source": [
        "\n",
        "for n in range(1,101):\n",
        "\n",
        "  if(n%5==0) and (n%7==0):\n",
        "     print(n)"
      ],
      "metadata": {
        "colab": {
          "base_uri": "https://localhost:8080/"
        },
        "id": "--xDup67gLso",
        "outputId": "d6435c25-0373-4e54-ca11-ac3caff0b496"
      },
      "execution_count": null,
      "outputs": [
        {
          "output_type": "stream",
          "name": "stdout",
          "text": [
            "35\n",
            "70\n"
          ]
        }
      ]
    },
    {
      "cell_type": "markdown",
      "source": [
        "### 4.Print the prime number or not.\n"
      ],
      "metadata": {
        "id": "WMNm7NkfZzW_"
      }
    },
    {
      "cell_type": "code",
      "source": [
        "n = int(input(\"Enter the number \"))\n",
        "isprime = True\n",
        "\n",
        "for i in range ( 2,n):\n",
        "    if (n%i==0):\n",
        "      isprime = False\n",
        "      break\n",
        "if isprime:\n",
        "      print(\"prime\")\n",
        "else:\n",
        "      print(\"not a prime\")"
      ],
      "metadata": {
        "colab": {
          "base_uri": "https://localhost:8080/"
        },
        "id": "Kl4vXpT5Z78X",
        "outputId": "6550729e-a2ca-438d-89c9-bea9a1e54462"
      },
      "execution_count": null,
      "outputs": [
        {
          "output_type": "stream",
          "name": "stdout",
          "text": [
            "Enter the number 20\n",
            "not a prime\n"
          ]
        }
      ]
    },
    {
      "cell_type": "markdown",
      "source": [
        "### 5.Count the  Prime number  from 1 to 1000.\n"
      ],
      "metadata": {
        "id": "x0Nkl4enqlcq"
      }
    },
    {
      "cell_type": "code",
      "source": [
        "count = 0\n",
        "for n in range(1,1001):\n",
        "  isprime = True\n",
        "\n",
        "  for i in range ( 2,n):\n",
        "     if (n%i==0):\n",
        "       isprime = False\n",
        "       break\n",
        "  if isprime:\n",
        "    count +=1\n",
        "print(count)"
      ],
      "metadata": {
        "colab": {
          "base_uri": "https://localhost:8080/"
        },
        "id": "yGkNJVuccMQr",
        "outputId": "6feea98b-7129-40b0-c11a-7334b1601bcb"
      },
      "execution_count": null,
      "outputs": [
        {
          "output_type": "stream",
          "name": "stdout",
          "text": [
            "169\n"
          ]
        }
      ]
    },
    {
      "cell_type": "markdown",
      "source": [
        "### 6.Rolling two dices how many possibility are come using Nested Loop."
      ],
      "metadata": {
        "id": "2rDLVp3erX6A"
      }
    },
    {
      "cell_type": "code",
      "source": [
        "for i in range(1,7):\n",
        "  for j in range(1,7):\n",
        "      print(i,j)\n"
      ],
      "metadata": {
        "colab": {
          "base_uri": "https://localhost:8080/"
        },
        "id": "wIHmISTlhzvr",
        "outputId": "471ab451-5db4-40a9-9a0c-36bf38264604"
      },
      "execution_count": null,
      "outputs": [
        {
          "output_type": "stream",
          "name": "stdout",
          "text": [
            "1 1\n",
            "1 2\n",
            "1 3\n",
            "1 4\n",
            "1 5\n",
            "1 6\n",
            "2 1\n",
            "2 2\n",
            "2 3\n",
            "2 4\n",
            "2 5\n",
            "2 6\n",
            "3 1\n",
            "3 2\n",
            "3 3\n",
            "3 4\n",
            "3 5\n",
            "3 6\n",
            "4 1\n",
            "4 2\n",
            "4 3\n",
            "4 4\n",
            "4 5\n",
            "4 6\n",
            "5 1\n",
            "5 2\n",
            "5 3\n",
            "5 4\n",
            "5 5\n",
            "5 6\n",
            "6 1\n",
            "6 2\n",
            "6 3\n",
            "6 4\n",
            "6 5\n",
            "6 6\n"
          ]
        }
      ]
    },
    {
      "cell_type": "markdown",
      "source": [
        "###7.If the rolling two dices  possibility of number are come using Nested Loop"
      ],
      "metadata": {
        "id": "2XjqgioVIVxH"
      }
    },
    {
      "cell_type": "code",
      "source": [
        "n = 2\n",
        "\n",
        "for n in range(1,13):\n",
        "  count = 0\n",
        "\n",
        "  for i in range(1,7):\n",
        "    for j in range(1,7):\n",
        "        if i + j  == n:\n",
        "          count += 1\n",
        "\n",
        "  print(n,\":\", str(round((count/36)*100,2)) + '%')"
      ],
      "metadata": {
        "colab": {
          "base_uri": "https://localhost:8080/"
        },
        "id": "3paemAN-Hx4S",
        "outputId": "25c089cb-ce5f-4784-8795-da9672b8eb92"
      },
      "execution_count": null,
      "outputs": [
        {
          "output_type": "stream",
          "name": "stdout",
          "text": [
            "1 : 0.0%\n",
            "2 : 2.78%\n",
            "3 : 5.56%\n",
            "4 : 8.33%\n",
            "5 : 11.11%\n",
            "6 : 13.89%\n",
            "7 : 16.67%\n",
            "8 : 13.89%\n",
            "9 : 11.11%\n",
            "10 : 8.33%\n",
            "11 : 5.56%\n",
            "12 : 2.78%\n"
          ]
        }
      ]
    },
    {
      "cell_type": "markdown",
      "source": [
        "### 8.Print each character of a string using a for loop."
      ],
      "metadata": {
        "id": "M19BuXj2VlcV"
      }
    },
    {
      "cell_type": "code",
      "source": [
        "text = \"Suraj Gupta\"\n",
        "for char in  text :\n",
        "  print(char)\n"
      ],
      "metadata": {
        "colab": {
          "base_uri": "https://localhost:8080/"
        },
        "id": "k8x7AyQ3VlIZ",
        "outputId": "3eb9855a-982f-472d-b33e-a3112a61a62c"
      },
      "execution_count": null,
      "outputs": [
        {
          "output_type": "stream",
          "name": "stdout",
          "text": [
            "S\n",
            "u\n",
            "r\n",
            "a\n",
            "j\n",
            " \n",
            "G\n",
            "u\n",
            "p\n",
            "t\n",
            "a\n"
          ]
        }
      ]
    },
    {
      "cell_type": "markdown",
      "source": [
        " ### 9.Count each character of a string using a for loop."
      ],
      "metadata": {
        "id": "5wJwgznoXn_d"
      }
    },
    {
      "cell_type": "code",
      "source": [
        "count = 0\n",
        "text = \"Suraj Guptabihknkml\"\n",
        "for char in  text :\n",
        "  count +=1\n",
        "print(count)"
      ],
      "metadata": {
        "colab": {
          "base_uri": "https://localhost:8080/"
        },
        "id": "7A6v772EW6ul",
        "outputId": "58bf34fc-0487-4852-9766-3e9711bdedeb"
      },
      "execution_count": null,
      "outputs": [
        {
          "output_type": "stream",
          "name": "stdout",
          "text": [
            "19\n"
          ]
        }
      ]
    },
    {
      "cell_type": "markdown",
      "source": [
        "###10.Find the factorial of a number using a for loop."
      ],
      "metadata": {
        "id": "kmQS_vYSWTzU"
      }
    },
    {
      "cell_type": "code",
      "source": [
        "num = int(input (\"Enter the number:\"))\n",
        "fact = 1\n",
        "for i in range(1, num + 1):\n",
        "    fact *= i\n",
        "print(\"Factorial is :\",fact)\n",
        "\n"
      ],
      "metadata": {
        "colab": {
          "base_uri": "https://localhost:8080/"
        },
        "id": "dEK_QzNNWa3r",
        "outputId": "aaa6e245-5769-47f7-8160-a079b7f507f0"
      },
      "execution_count": null,
      "outputs": [
        {
          "output_type": "stream",
          "name": "stdout",
          "text": [
            "Enter the number:8\n",
            "Factorial is : 40320\n"
          ]
        }
      ]
    },
    {
      "cell_type": "markdown",
      "source": [
        "###11.Count the number of vowels in a string using a for loop."
      ],
      "metadata": {
        "id": "TuY8y4FUWbhD"
      }
    },
    {
      "cell_type": "code",
      "source": [
        "text = \" suraj GuptaAK \"\n",
        "vowels = 'aeiouAEIOU'\n",
        "count = 0\n",
        "for char in text:\n",
        "    if char in vowels:\n",
        "       count +=1\n",
        "print(count)"
      ],
      "metadata": {
        "colab": {
          "base_uri": "https://localhost:8080/"
        },
        "id": "NBcrSosvWqEM",
        "outputId": "de59ea66-975e-4770-df86-f5b1e78e1303"
      },
      "execution_count": null,
      "outputs": [
        {
          "output_type": "stream",
          "name": "stdout",
          "text": [
            "5\n"
          ]
        }
      ]
    },
    {
      "cell_type": "markdown",
      "source": [
        "###12.print the  pattern (*) in right side"
      ],
      "metadata": {
        "id": "ssGjnDR1Johi"
      }
    },
    {
      "cell_type": "code",
      "source": [
        "for i in range(1, 6):\n",
        "    print(\"*\" * i)\n"
      ],
      "metadata": {
        "colab": {
          "base_uri": "https://localhost:8080/"
        },
        "id": "ZTr0xdoFhkc1",
        "outputId": "d393b203-0577-4514-d21b-4407e7132ed2"
      },
      "execution_count": null,
      "outputs": [
        {
          "output_type": "stream",
          "name": "stdout",
          "text": [
            "*\n",
            "**\n",
            "***\n",
            "****\n",
            "*****\n"
          ]
        }
      ]
    },
    {
      "cell_type": "markdown",
      "source": [
        "###13. Find the vowels & Consonent in the string.\n"
      ],
      "metadata": {
        "id": "eKkofMG4UP2O"
      }
    },
    {
      "cell_type": "code",
      "source": [
        "text = str(input(\"Enter the string:\"))\n",
        "\n",
        "v = 0\n",
        "c = 0\n",
        "\n",
        "for i in text:\n",
        "  if i in 'aeiouAEIOU':\n",
        "    v += 1\n",
        "  elif i in ' @#&^%*()&*^&%#^@':\n",
        "    continue\n",
        "  else:\n",
        "    c += 1\n",
        "\n",
        "print('vowels is :',v,'consonent is :',c)"
      ],
      "metadata": {
        "id": "zXSJD72HnOT9",
        "colab": {
          "base_uri": "https://localhost:8080/"
        },
        "outputId": "e9079465-d991-4bed-9a05-cd0073dca182"
      },
      "execution_count": null,
      "outputs": [
        {
          "output_type": "stream",
          "name": "stdout",
          "text": [
            "Enter the string:suraj gupta\n",
            "vowels is : 4 consonent is : 6\n"
          ]
        }
      ]
    }
  ]
}