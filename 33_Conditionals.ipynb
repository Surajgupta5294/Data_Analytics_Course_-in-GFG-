{
  "nbformat": 4,
  "nbformat_minor": 0,
  "metadata": {
    "colab": {
      "provenance": [],
      "authorship_tag": "ABX9TyMJJdQVrrQ0ZSTB4PNJ/uCl",
      "include_colab_link": true
    },
    "kernelspec": {
      "name": "python3",
      "display_name": "Python 3"
    },
    "language_info": {
      "name": "python"
    }
  },
  "cells": [
    {
      "cell_type": "markdown",
      "metadata": {
        "id": "view-in-github",
        "colab_type": "text"
      },
      "source": [
        "<a href=\"https://colab.research.google.com/github/Surajgupta5294/Data_Analytics_Course_-in-GFG-/blob/main/33_Conditionals.ipynb\" target=\"_parent\"><img src=\"https://colab.research.google.com/assets/colab-badge.svg\" alt=\"Open In Colab\"/></a>"
      ]
    },
    {
      "cell_type": "markdown",
      "source": [
        "# Conditionals\n"
      ],
      "metadata": {
        "id": "oKhr2zAZh1sM"
      }
    },
    {
      "cell_type": "markdown",
      "source": [
        "###1. Check if a number is even or odd."
      ],
      "metadata": {
        "id": "y8wKE83big3v"
      }
    },
    {
      "cell_type": "code",
      "execution_count": 1,
      "metadata": {
        "colab": {
          "base_uri": "https://localhost:8080/"
        },
        "id": "E4qpb2qnf1yk",
        "outputId": "afeb6ff9-4b48-49f3-fd48-1c30b60dc7ab"
      },
      "outputs": [
        {
          "output_type": "stream",
          "name": "stdout",
          "text": [
            "Enter a number: 3\n",
            "3 is odd\n"
          ]
        }
      ],
      "source": [
        "num = int(input(\"Enter a number: \"))\n",
        "if num % 2 == 0:\n",
        "    print(num, \"is even\")\n",
        "else:\n",
        "    print(num, \"is odd\")"
      ]
    },
    {
      "cell_type": "markdown",
      "source": [
        "###2. Check if a number is divisible by 5 and 7"
      ],
      "metadata": {
        "id": "PDqaajCwjzLv"
      }
    },
    {
      "cell_type": "code",
      "source": [
        "num = int(input(\"Enter a number: \"))\n",
        "if (num %5 == 0) and (num % 7 == 0):\n",
        "  print(num, \"Divisible\")\n",
        "else:\n",
        "  print(num, \"Not Divisible\")"
      ],
      "metadata": {
        "colab": {
          "base_uri": "https://localhost:8080/"
        },
        "id": "aMsngNjti1aA",
        "outputId": "f848aa59-d89b-46aa-e435-693e6a081e3d"
      },
      "execution_count": 20,
      "outputs": [
        {
          "output_type": "stream",
          "name": "stdout",
          "text": [
            "Enter a number: 14\n",
            "14 Not Divisible\n"
          ]
        }
      ]
    },
    {
      "cell_type": "markdown",
      "source": [
        "###3. Check if a number is divisible by 5 or 7"
      ],
      "metadata": {
        "id": "-rVWTD3OlzBO"
      }
    },
    {
      "cell_type": "code",
      "source": [
        "num = int(input(\"Enter a number: \"))\n",
        "if (num %5 == 0) or (num % 7 == 0):\n",
        "  print(num, \"Divisible\")\n",
        "else:\n",
        "  print(num, \"Not Divisible\")"
      ],
      "metadata": {
        "colab": {
          "base_uri": "https://localhost:8080/"
        },
        "id": "bLb-0q8zkzgK",
        "outputId": "6afe9b32-41ba-413c-d5ce-bc2becb6ca3e"
      },
      "execution_count": 23,
      "outputs": [
        {
          "output_type": "stream",
          "name": "stdout",
          "text": [
            "Enter a number: 39\n",
            "39 Not Divisible\n"
          ]
        }
      ]
    },
    {
      "cell_type": "markdown",
      "source": [
        "##4. Determine a person's stage of life (child, teenage, adult, senior) based on age."
      ],
      "metadata": {
        "id": "w8l2uvuOmEat"
      }
    },
    {
      "cell_type": "code",
      "source": [
        "age = int(input(\"Enter a number: \"))\n",
        "if age <=10:\n",
        "  print(\"child\")\n",
        "elif age <= 18:\n",
        "  print(\"teenage\")\n",
        "elif age <= 40:\n",
        "  print(\"adult\")\n",
        "elif age <= 60:\n",
        "  print(\"senior\")\n",
        "else:\n",
        "  print(\"Old\")"
      ],
      "metadata": {
        "colab": {
          "base_uri": "https://localhost:8080/"
        },
        "id": "ZPzWf0lpmFKn",
        "outputId": "7abcea10-9e48-4a65-8b7b-5c4a0d1e2969"
      },
      "execution_count": 32,
      "outputs": [
        {
          "output_type": "stream",
          "name": "stdout",
          "text": [
            "Enter a number: 20\n",
            "adult\n"
          ]
        }
      ]
    },
    {
      "cell_type": "markdown",
      "source": [
        "### 5 Number is divisible by either 5 or 7 but not 9 and must be off between (0,1000)"
      ],
      "metadata": {
        "id": "rIcznjTTqd5X"
      }
    },
    {
      "cell_type": "code",
      "source": [
        "n = int(input(\"Enter a number: \"))\n",
        "\n",
        "if n <= 1000 and n >= 0:\n",
        "\n",
        "  if n%5 == 0 and n%7 == 0 and n%9 != 0:\n",
        "    print('by 5 & 7 not 9')\n",
        "\n",
        "  elif n%5 == 0 and n%7 != 0 and n%9 == 0:\n",
        "    print('by 5 & 9 not 7')\n",
        "\n",
        "  elif n%5 == 0 and n%7 != 0 and n%9 != 0:\n",
        "    print('by 5 not 7 not 9')\n",
        "\n",
        "  elif n%5 != 0 and n%7 == 0 and n%9 != 0:\n",
        "    print('by 7 not 5 not 9')\n",
        "\n",
        "  elif n%5 == 0 and n%7 == 0 and n%9 != 0:\n",
        "    print('by 7 & 5 not 9')\n",
        "\n",
        "  elif n%5 == 0 and n%7 == 0 and n%9 == 0:\n",
        "    print('by 5 & 7 & 9')\n",
        "\n",
        "else:\n",
        "  print('not in range')\n"
      ],
      "metadata": {
        "colab": {
          "base_uri": "https://localhost:8080/"
        },
        "id": "I7bWCmf9oFfW",
        "outputId": "08603e41-5039-43be-eeb9-77c5541c2b9f"
      },
      "execution_count": 36,
      "outputs": [
        {
          "output_type": "stream",
          "name": "stdout",
          "text": [
            "Enter a number: 10002\n",
            "not in range\n"
          ]
        }
      ]
    },
    {
      "cell_type": "markdown",
      "source": [],
      "metadata": {
        "id": "TaQL8qqtoFEj"
      }
    },
    {
      "cell_type": "code",
      "source": [
        "score = int(input(\"Enter a number: \"))\n",
        "if score >= 90:\n",
        "  print(\"A\")\n",
        "elif score >= 80:\n",
        "  print(\"B\")\n",
        "elif score >= 70:\n",
        "  print(\"C\")\n",
        "elif score >= 60:\n",
        "  print(\"D\")\n",
        "else:\n",
        "  print(\"Fail\")\n"
      ],
      "metadata": {
        "colab": {
          "base_uri": "https://localhost:8080/"
        },
        "id": "lPmQ-EYWq1Zo",
        "outputId": "d4d15957-b3e2-4ddf-cba8-2a4795b19c4a"
      },
      "execution_count": 43,
      "outputs": [
        {
          "output_type": "stream",
          "name": "stdout",
          "text": [
            "Enter a number: 89\n",
            "B\n"
          ]
        }
      ]
    },
    {
      "cell_type": "markdown",
      "source": [
        "##6. Nested if: If an integer is positive, check if greater than 100 or not"
      ],
      "metadata": {
        "id": "oW0TxK5Dymb-"
      }
    },
    {
      "cell_type": "code",
      "source": [
        "num = int(input(\"Enter a number: \"))\n",
        "if num > 0:\n",
        "    if num > 100:\n",
        "        print(\"Positive and greater than 100\")\n",
        "    else:\n",
        "        print(\"Positive but 100 or less\")\n",
        "else:\n",
        "    print(\"Not positive\")"
      ],
      "metadata": {
        "colab": {
          "base_uri": "https://localhost:8080/"
        },
        "id": "TtyzkgpHyuzu",
        "outputId": "307b4e6d-bca2-4708-d624-b52a035ea7ae"
      },
      "execution_count": 46,
      "outputs": [
        {
          "output_type": "stream",
          "name": "stdout",
          "text": [
            "Enter a number: -3\n",
            "Not positive\n"
          ]
        }
      ]
    },
    {
      "cell_type": "markdown",
      "source": [
        "##7. Check if a given string is uppercase, lowercase, or mixed."
      ],
      "metadata": {
        "id": "7JSGo2Z9zRah"
      }
    },
    {
      "cell_type": "code",
      "source": [
        "text = input(\"Enter a string: \")\n",
        "if text.isupper():\n",
        "    print(\"Uppercase\")\n",
        "elif text.islower():\n",
        "    print(\"Lowercase\")\n",
        "else:\n",
        "    print(\"Mixed\")"
      ],
      "metadata": {
        "colab": {
          "base_uri": "https://localhost:8080/"
        },
        "id": "K1VmgpVVzXRh",
        "outputId": "1ad3042a-af83-46ce-99b5-505e34f4372e"
      },
      "execution_count": 48,
      "outputs": [
        {
          "output_type": "stream",
          "name": "stdout",
          "text": [
            "Enter a string: HEEL\n",
            "Uppercase\n"
          ]
        }
      ]
    },
    {
      "cell_type": "markdown",
      "source": [
        "###8.Nested if: If year is divisible by 4, check if also divisible by 100. If yes, then must be divisible by 400 for leap year."
      ],
      "metadata": {
        "id": "Fl8D5SfG5JUs"
      }
    },
    {
      "cell_type": "code",
      "source": [
        "year = int(input(\"Enter a year: \"))\n",
        "if year % 4 == 0:\n",
        "    if year % 100 == 0:\n",
        "        if year % 400 == 0:\n",
        "            print(\"Leap Year\")\n",
        "        else:\n",
        "            print(\"Not Leap Year\")\n",
        "    else:\n",
        "        print(\"Leap Year\")\n",
        "else:\n",
        "    print(\"Not Leap Year\")"
      ],
      "metadata": {
        "colab": {
          "base_uri": "https://localhost:8080/"
        },
        "id": "XwxekakA3zom",
        "outputId": "9eb5092d-88f5-4119-9e35-e403469cd5d2"
      },
      "execution_count": 61,
      "outputs": [
        {
          "output_type": "stream",
          "name": "stdout",
          "text": [
            "Enter a year: 1700\n",
            "Not Leap Year\n"
          ]
        }
      ]
    }
  ]
}