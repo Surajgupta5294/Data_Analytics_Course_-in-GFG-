{
  "nbformat": 4,
  "nbformat_minor": 0,
  "metadata": {
    "colab": {
      "provenance": [],
      "authorship_tag": "ABX9TyPisp0iRRaV49DdMJw24zEs",
      "include_colab_link": true
    },
    "kernelspec": {
      "name": "python3",
      "display_name": "Python 3"
    },
    "language_info": {
      "name": "python"
    }
  },
  "cells": [
    {
      "cell_type": "markdown",
      "metadata": {
        "id": "view-in-github",
        "colab_type": "text"
      },
      "source": [
        "<a href=\"https://colab.research.google.com/github/Surajgupta5294/Data_Analytics_Course_-in-GFG-/blob/main/36_Multi_dimensionalList.ipynb\" target=\"_parent\"><img src=\"https://colab.research.google.com/assets/colab-badge.svg\" alt=\"Open In Colab\"/></a>"
      ]
    },
    {
      "cell_type": "markdown",
      "source": [
        "#Data structures"
      ],
      "metadata": {
        "id": "TbfErkD3W8cY"
      }
    },
    {
      "cell_type": "markdown",
      "source": [
        "### 1 List"
      ],
      "metadata": {
        "id": "zH6BOCwvXKMm"
      }
    },
    {
      "cell_type": "code",
      "source": [
        "lst = []\n",
        "for i in range(1,101):\n",
        "  if i%2==0 or i%3==0 or i%5==0:\n",
        "    lst.append(i)\n",
        "print(lst)\n",
        "print(sum(lst))\n",
        "\n",
        "\n"
      ],
      "metadata": {
        "colab": {
          "base_uri": "https://localhost:8080/"
        },
        "id": "h4AQP73Ha5uL",
        "outputId": "a7a9d00d-103a-46cc-a10c-135d9bad7aa9"
      },
      "execution_count": null,
      "outputs": [
        {
          "output_type": "stream",
          "name": "stdout",
          "text": [
            "[2, 3, 4, 5, 6, 8, 9, 10, 12, 14, 15, 16, 18, 20, 21, 22, 24, 25, 26, 27, 28, 30, 32, 33, 34, 35, 36, 38, 39, 40, 42, 44, 45, 46, 48, 50, 51, 52, 54, 55, 56, 57, 58, 60, 62, 63, 64, 65, 66, 68, 69, 70, 72, 74, 75, 76, 78, 80, 81, 82, 84, 85, 86, 87, 88, 90, 92, 93, 94, 95, 96, 98, 99, 100]\n",
            "3782\n"
          ]
        }
      ]
    },
    {
      "cell_type": "code",
      "source": [
        "user_name =input(\"Enter the name\")\n",
        "name = [\"suraj\", \"anurag\", \"amit\",\"vijay\",\"ram\",\"ashish\"]\n",
        "\n",
        "if 'ashish' in name:\n",
        "    print('yes')\n",
        "else:\n",
        "    print('no')\n"
      ],
      "metadata": {
        "colab": {
          "base_uri": "https://localhost:8080/"
        },
        "id": "iRdfnMeZa5r8",
        "outputId": "1596e820-6646-4a25-8d9a-3e39d7f4c22d"
      },
      "execution_count": null,
      "outputs": [
        {
          "output_type": "stream",
          "name": "stdout",
          "text": [
            "Enter the numberashish\n",
            "yes\n",
            "\n"
          ]
        }
      ]
    },
    {
      "cell_type": "markdown",
      "source": [
        "###row"
      ],
      "metadata": {
        "id": "qcq-sORpqrDz"
      }
    },
    {
      "cell_type": "code",
      "source": [
        "lst = [[1,2,3],\n",
        "      [4,5,6],\n",
        "      [7,8,9]]\n",
        "for i in lst:\n",
        "  s =0\n",
        "  for j in i:\n",
        "   s+=j\n",
        "  print(s)"
      ],
      "metadata": {
        "colab": {
          "base_uri": "https://localhost:8080/"
        },
        "id": "XwP89xGVa5pD",
        "outputId": "081f2496-f39c-4fd4-d384-b58290195f42"
      },
      "execution_count": null,
      "outputs": [
        {
          "output_type": "stream",
          "name": "stdout",
          "text": [
            "6\n",
            "15\n",
            "24\n"
          ]
        }
      ]
    },
    {
      "cell_type": "markdown",
      "source": [
        "### column"
      ],
      "metadata": {
        "id": "gL_DbdIrqu2U"
      }
    },
    {
      "cell_type": "code",
      "source": [
        "lst = [[1,2,3],\n",
        "      [4,5,6],\n",
        "      [7,8,9]]\n",
        "for column_index in range(len(lst)):\n",
        "  s = 0\n",
        "  for row in lst:\n",
        "    s +=row[column_index]\n",
        "  print(s)\n",
        "\n"
      ],
      "metadata": {
        "colab": {
          "base_uri": "https://localhost:8080/"
        },
        "id": "evCdcecYa5me",
        "outputId": "f7e6a1d8-ceca-404f-89ef-b62a701f872a"
      },
      "execution_count": null,
      "outputs": [
        {
          "output_type": "stream",
          "name": "stdout",
          "text": [
            "12\n",
            "15\n",
            "18\n"
          ]
        }
      ]
    },
    {
      "cell_type": "markdown",
      "source": [
        "# digonal"
      ],
      "metadata": {
        "id": "sSdMIUdZW7ce"
      }
    },
    {
      "cell_type": "code",
      "source": [
        "lst = [[1,2,3],\n",
        "      [4,5,6],\n",
        "      [7,8,9]]\n",
        "s= 0\n",
        "for i in range(len(lst)):\n",
        "  s+= lst[i][i]\n",
        "\n",
        "print(s)"
      ],
      "metadata": {
        "colab": {
          "base_uri": "https://localhost:8080/"
        },
        "id": "hjXXn_3j26vL",
        "outputId": "5c647a7a-572b-4305-f9c2-be0e2bf63db6"
      },
      "execution_count": null,
      "outputs": [
        {
          "output_type": "stream",
          "name": "stdout",
          "text": [
            "15\n"
          ]
        }
      ]
    },
    {
      "cell_type": "code",
      "source": [
        "lst = [[1,2,3],\n",
        "       [4,5,6],\n",
        "       [7,8,9]]\n",
        "s=0\n",
        "for i in range(len(lst)):\n",
        "  for j in range(len(lst[i])):\n",
        "    if i+j== len(lst)-1 or i==j  :\n",
        "      s+= (lst[i][j])\n",
        "print(s)\n",
        "\n",
        "\n",
        "\n",
        "\n"
      ],
      "metadata": {
        "colab": {
          "base_uri": "https://localhost:8080/"
        },
        "id": "O786G0Mj4-Ld",
        "outputId": "1525ee72-e142-465f-a945-d17f835b0edd"
      },
      "execution_count": null,
      "outputs": [
        {
          "output_type": "stream",
          "name": "stdout",
          "text": [
            "25\n"
          ]
        }
      ]
    },
    {
      "cell_type": "markdown",
      "source": [
        "## Adding two matrix"
      ],
      "metadata": {
        "id": "Mrs-hlD7B0Qk"
      }
    },
    {
      "cell_type": "code",
      "source": [
        "A = [[1, 2, 3],\n",
        "     [4, 5, 6],\n",
        "     [7, 8, 9]]\n",
        "\n",
        "B = [[9, 2, 7],\n",
        "     [6, 5, 2],\n",
        "     [3, 2, 1]]\n",
        "\n",
        "\n",
        "for i in range(len(A)):\n",
        "    for j in range(len(A[i])):\n",
        "        print( A[i][j] + B[i][j])\n",
        "\n",
        "\n"
      ],
      "metadata": {
        "colab": {
          "base_uri": "https://localhost:8080/"
        },
        "id": "GwFkvjBUA1n2",
        "outputId": "94762f77-ad24-4e1f-c69e-6c1fef4fbc8a"
      },
      "execution_count": null,
      "outputs": [
        {
          "output_type": "stream",
          "name": "stdout",
          "text": [
            "10\n",
            "4\n",
            "10\n",
            "10\n",
            "10\n",
            "8\n",
            "10\n",
            "10\n",
            "10\n"
          ]
        }
      ]
    },
    {
      "cell_type": "code",
      "source": [
        "A = [[1, 2, 3],\n",
        "     [4, 5, 6],\n",
        "     [7, 8, 9]]\n",
        "\n",
        "B = [[9, 8, 7],\n",
        "     [6, 5, 4],\n",
        "     [3, 2, 1]]\n",
        "\n",
        "result = [[0, 0, 0],\n",
        "          [0, 0, 0],\n",
        "          [0, 0, 0]]\n",
        "\n",
        "\n",
        "for i in range(len(A)):\n",
        "    for j in range(len(A[i])):\n",
        "        result[i][j] = A[i][j] + B[i][j]\n",
        "\n",
        "\n",
        "for r in result:\n",
        "    print(r)\n"
      ],
      "metadata": {
        "colab": {
          "base_uri": "https://localhost:8080/"
        },
        "id": "y85HiyYOCqkC",
        "outputId": "ea55f3e9-3649-4f1b-d876-a9ae5dac15e8"
      },
      "execution_count": null,
      "outputs": [
        {
          "output_type": "stream",
          "name": "stdout",
          "text": [
            "[10, 10, 10]\n",
            "[10, 10, 10]\n",
            "[10, 10, 10]\n"
          ]
        }
      ]
    },
    {
      "cell_type": "markdown",
      "source": [
        "## Subtracting Two matrix\n"
      ],
      "metadata": {
        "id": "_DUxE9fiC78e"
      }
    },
    {
      "cell_type": "code",
      "source": [
        "A = [[1, 2, 3],\n",
        "     [4, 5, 6],\n",
        "     [7, 8, 9]]\n",
        "\n",
        "B = [[9, 8, 7],\n",
        "     [6, 5, 4],\n",
        "     [3, 2, 1]]\n",
        "\n",
        "result = [[0, 0, 0],\n",
        "          [0, 0, 0],\n",
        "          [0, 0, 0]]\n",
        "\n",
        "\n",
        "for i in range(len(A)):\n",
        "    for j in range(len(A[i])):\n",
        "        result[i][j] = A[i][j] - B[i][j]\n",
        "\n",
        "\n",
        "for r in result:\n",
        "    print(r)\n"
      ],
      "metadata": {
        "colab": {
          "base_uri": "https://localhost:8080/"
        },
        "outputId": "0e5a0d79-bf62-4458-d82d-486024f1452f",
        "id": "OPCboOH5DKKF"
      },
      "execution_count": null,
      "outputs": [
        {
          "output_type": "stream",
          "name": "stdout",
          "text": [
            "[-8, -6, -4]\n",
            "[-2, 0, 2]\n",
            "[4, 6, 8]\n"
          ]
        }
      ]
    },
    {
      "cell_type": "markdown",
      "source": [
        "## Multiplication of Row * Row"
      ],
      "metadata": {
        "id": "65n9SU3-D-ta"
      }
    },
    {
      "cell_type": "code",
      "source": [
        "A = [[1, 2, 3],\n",
        "     [4, 5, 6],\n",
        "     [7, 8, 9]]\n",
        "\n",
        "B = [[9, 8, 7],\n",
        "     [6, 5, 4],\n",
        "     [3, 2, 1]]\n",
        "\n",
        "result = [[0, 0, 0],\n",
        "          [0, 0, 0],\n",
        "          [0, 0, 0]]\n",
        "\n",
        "\n",
        "for i in range(len(A)):\n",
        "    for j in range(len(A[i])):\n",
        "        result[i][j] = A[i][j] * B[i][j]\n",
        "\n",
        "\n",
        "for r in result:\n",
        "    print(r)\n"
      ],
      "metadata": {
        "colab": {
          "base_uri": "https://localhost:8080/"
        },
        "id": "WMHRfxnZDqyP",
        "outputId": "15e4ab45-bf9e-45aa-f8f9-e214120bafd7"
      },
      "execution_count": null,
      "outputs": [
        {
          "output_type": "stream",
          "name": "stdout",
          "text": [
            "[9, 16, 21]\n",
            "[24, 25, 24]\n",
            "[21, 16, 9]\n"
          ]
        }
      ]
    },
    {
      "cell_type": "code",
      "source": [
        "matrix = [[1, 2, 3],\n",
        "          [4, 5, 6],\n",
        "          [7, 8, 9]]\n",
        "\n",
        "\n",
        "result = [[0, 0, 0],\n",
        "          [0, 0, 0],\n",
        "          [0, 0, 0]]\n",
        "\n",
        "\n",
        "for i in range(len(matrix)):\n",
        "    for j in range(len(matrix[i])):\n",
        "        result[i][j] = matrix[i][j] * (i+1) * (j+1)\n",
        "\n",
        "\n",
        "for r in result:\n",
        "    print(r)\n"
      ],
      "metadata": {
        "id": "cUC2eDA3FC19",
        "colab": {
          "base_uri": "https://localhost:8080/"
        },
        "outputId": "a9ecb90d-d0cb-49f2-a517-54029f45fa88"
      },
      "execution_count": null,
      "outputs": [
        {
          "output_type": "stream",
          "name": "stdout",
          "text": [
            "[1, 4, 9]\n",
            "[8, 20, 36]\n",
            "[21, 48, 81]\n"
          ]
        }
      ]
    },
    {
      "cell_type": "markdown",
      "source": [
        "#List Comprehension"
      ],
      "metadata": {
        "id": "lKWAxf9xBWE5"
      }
    },
    {
      "cell_type": "code",
      "source": [
        "lst=[1,2,8,6,9,7,5]\n",
        "print(lst)\n",
        "lst = [i**2 for i in lst]\n",
        "print(lst)"
      ],
      "metadata": {
        "colab": {
          "base_uri": "https://localhost:8080/"
        },
        "id": "uXET87G8BZnH",
        "outputId": "7ca8b22a-eb52-4cd9-f736-6dc07441b2a7"
      },
      "execution_count": null,
      "outputs": [
        {
          "output_type": "stream",
          "name": "stdout",
          "text": [
            "[1, 2, 8, 6, 9, 7, 5]\n",
            "[1, 4, 64, 36, 81, 49, 25]\n"
          ]
        }
      ]
    },
    {
      "cell_type": "markdown",
      "source": [
        "### Condition in list Comprehension"
      ],
      "metadata": {
        "id": "yF4CezLTB6F9"
      }
    },
    {
      "cell_type": "code",
      "source": [
        "even_number = [i for i in range(50) if i % 2 ==0 ]\n",
        "print(even_number)"
      ],
      "metadata": {
        "colab": {
          "base_uri": "https://localhost:8080/"
        },
        "id": "DLwAwfbYCJGu",
        "outputId": "0549ff48-10bb-451f-de7a-ba95b56a52bd"
      },
      "execution_count": null,
      "outputs": [
        {
          "output_type": "stream",
          "name": "stdout",
          "text": [
            "[0, 3, 6, 9, 12, 15, 18, 21, 24, 27, 30, 33, 36, 39, 42, 45, 48]\n"
          ]
        }
      ]
    },
    {
      "cell_type": "markdown",
      "source": [
        "### List Comprehension with Multiple Operations"
      ],
      "metadata": {
        "id": "OvTLQEdAE5iu"
      }
    },
    {
      "cell_type": "code",
      "source": [
        "lst = [i**2 for i in range (21) if i % 2 ==0]\n",
        "print(lst)"
      ],
      "metadata": {
        "colab": {
          "base_uri": "https://localhost:8080/"
        },
        "id": "Rm8SlCeLFFmI",
        "outputId": "3ad65854-5137-4b57-9696-95e24b524ec6"
      },
      "execution_count": null,
      "outputs": [
        {
          "output_type": "stream",
          "name": "stdout",
          "text": [
            "[0, 4, 16, 36, 64, 100, 144, 196, 256, 324, 400]\n"
          ]
        }
      ]
    },
    {
      "cell_type": "markdown",
      "source": [
        "### Multi- Dimensional Lists"
      ],
      "metadata": {
        "id": "4W6Bx4coC-hk"
      }
    },
    {
      "cell_type": "code",
      "source": [
        "lst = [[ j for j in range (1,4)]for i in range(3)]\n",
        "print(lst)"
      ],
      "metadata": {
        "colab": {
          "base_uri": "https://localhost:8080/"
        },
        "id": "1NOTkcJdDHXk",
        "outputId": "18b86644-3f6f-4cf8-f428-75b1640859a6"
      },
      "execution_count": null,
      "outputs": [
        {
          "output_type": "stream",
          "name": "stdout",
          "text": [
            "[[1, 2, 3], [1, 2, 3], [1, 2, 3]]\n"
          ]
        }
      ]
    },
    {
      "cell_type": "markdown",
      "source": [
        "###Flattening a Multi-Dimensional List\n"
      ],
      "metadata": {
        "id": "tjVNyTLSEwfu"
      }
    },
    {
      "cell_type": "code",
      "source": [
        "lst = [[1, 2, 3], [4, 5, 6], [7, 8, 9]]\n",
        "print([j for i in lst for j in i])"
      ],
      "metadata": {
        "colab": {
          "base_uri": "https://localhost:8080/"
        },
        "id": "og0WNNqVMsuH",
        "outputId": "c7bc6737-364b-439f-fecd-138147bd6c76"
      },
      "execution_count": null,
      "outputs": [
        {
          "output_type": "stream",
          "name": "stdout",
          "text": [
            "[1, 2, 3, 4, 5, 6, 7, 8, 9]\n"
          ]
        }
      ]
    }
  ]
}