{
  "nbformat": 4,
  "nbformat_minor": 0,
  "metadata": {
    "colab": {
      "provenance": [],
      "toc_visible": true,
      "authorship_tag": "ABX9TyPL9vKAV8cJkjOlonHbwtrV",
      "include_colab_link": true
    },
    "kernelspec": {
      "name": "python3",
      "display_name": "Python 3"
    },
    "language_info": {
      "name": "python"
    }
  },
  "cells": [
    {
      "cell_type": "markdown",
      "metadata": {
        "id": "view-in-github",
        "colab_type": "text"
      },
      "source": [
        "<a href=\"https://colab.research.google.com/github/Surajgupta5294/Data_Analytics_Course_-in-GFG-/blob/main/introduction__to_Python_ipynb.ipynb\" target=\"_parent\"><img src=\"https://colab.research.google.com/assets/colab-badge.svg\" alt=\"Open In Colab\"/></a>"
      ]
    },
    {
      "cell_type": "markdown",
      "source": [
        " # 1 . Print\n"
      ],
      "metadata": {
        "id": "_-26XpiqXDuO"
      }
    },
    {
      "cell_type": "markdown",
      "source": [],
      "metadata": {
        "id": "4bt5YZ8dbAlk"
      }
    },
    {
      "cell_type": "markdown",
      "source": [],
      "metadata": {
        "id": "-VcujYrIbCMd"
      }
    },
    {
      "cell_type": "code",
      "source": [
        "print(12)\n",
        "print(12.5)\n",
        "print(\"suraj gupta)\")\n",
        "print(True)\n",
        "print()\n",
        "print('----*****-')\n",
        "\n",
        "print(12, 2.5, True,'Suraj')"
      ],
      "metadata": {
        "colab": {
          "base_uri": "https://localhost:8080/"
        },
        "id": "6lj3BMB_XGiw",
        "outputId": "0d2d3714-1d7f-4791-c8ac-8783f4ad2b0b"
      },
      "execution_count": null,
      "outputs": [
        {
          "output_type": "stream",
          "name": "stdout",
          "text": [
            "12\n",
            "12.5\n",
            "suraj gupta)\n",
            "True\n",
            "\n",
            "----*****-\n",
            "12 2.5 True Suraj\n"
          ]
        }
      ]
    },
    {
      "cell_type": "markdown",
      "source": [
        " # 2. Type\n",
        "\n"
      ],
      "metadata": {
        "id": "xv83l6EOX5a0"
      }
    },
    {
      "cell_type": "code",
      "source": [
        "print(type(12))\n",
        "print(type(12.5))\n",
        "print(type('12.5'))\n",
        "print(type('Suraj'))\n",
        "print(type(True))\n",
        "print(type('True'))"
      ],
      "metadata": {
        "colab": {
          "base_uri": "https://localhost:8080/"
        },
        "id": "-JuFbOhvX9gr",
        "outputId": "ffa8d973-c589-48b3-cb86-34923c55e344"
      },
      "execution_count": null,
      "outputs": [
        {
          "output_type": "stream",
          "name": "stdout",
          "text": [
            "<class 'int'>\n",
            "<class 'float'>\n",
            "<class 'str'>\n",
            "<class 'str'>\n",
            "<class 'bool'>\n",
            "<class 'str'>\n"
          ]
        }
      ]
    },
    {
      "cell_type": "markdown",
      "source": [
        "# 3. Operators\n",
        "### 3.1) Arithmetic\n",
        "#### 3.1.1) Int - Int\n"
      ],
      "metadata": {
        "id": "BMfoY9HgYKL3"
      }
    },
    {
      "cell_type": "code",
      "source": [
        "print(12+5)\n",
        "print(12-5)\n",
        "print(12*5)\n",
        "print(12/5)\n",
        "print(12//5)\n",
        "print(12%5)\n",
        "print(12**5)\n",
        "\n"
      ],
      "metadata": {
        "colab": {
          "base_uri": "https://localhost:8080/"
        },
        "id": "0AVIa3DCYdXD",
        "outputId": "68b3cd7a-4f54-4a20-9881-16e524067c19"
      },
      "execution_count": null,
      "outputs": [
        {
          "output_type": "stream",
          "name": "stdout",
          "text": [
            "17\n",
            "7\n",
            "60\n",
            "2.4\n",
            "2\n",
            "2\n",
            "248832\n"
          ]
        }
      ]
    },
    {
      "cell_type": "markdown",
      "source": [
        "####3.1.2) Int - Float"
      ],
      "metadata": {
        "id": "fJjdH0abZNU_"
      }
    },
    {
      "cell_type": "markdown",
      "source": [],
      "metadata": {
        "id": "I__fZaKpY1Q6"
      }
    },
    {
      "cell_type": "code",
      "source": [
        "print(12+5.2)\n",
        "print(12-5.2)\n",
        "print(12*5.2)\n",
        "print(12/5.2)\n",
        "print(12//5.2)\n",
        "print(12%5.2)\n",
        "print(12**5.2)"
      ],
      "metadata": {
        "colab": {
          "base_uri": "https://localhost:8080/"
        },
        "id": "VpHCHOm0ZX5S",
        "outputId": "b9f45b68-5032-48d2-da24-d74852da53ed"
      },
      "execution_count": null,
      "outputs": [
        {
          "output_type": "stream",
          "name": "stdout",
          "text": [
            "17.2\n",
            "6.8\n",
            "62.400000000000006\n",
            "2.3076923076923075\n",
            "2.0\n",
            "1.5999999999999996\n",
            "409018.0552424305\n"
          ]
        }
      ]
    },
    {
      "cell_type": "markdown",
      "source": [
        "####3.1.3) Int - String\n"
      ],
      "metadata": {
        "id": "z73Or3D9ZjFY"
      }
    },
    {
      "cell_type": "code",
      "source": [
        "print(12*'Suraj')"
      ],
      "metadata": {
        "colab": {
          "base_uri": "https://localhost:8080/"
        },
        "id": "AWLRtzYCZsH4",
        "outputId": "7fa0aadf-1bbf-4a2a-d9ac-e79d522331f0"
      },
      "execution_count": null,
      "outputs": [
        {
          "output_type": "stream",
          "name": "stdout",
          "text": [
            "SurajSurajSurajSurajSurajSurajSurajSurajSurajSurajSurajSuraj\n"
          ]
        }
      ]
    },
    {
      "cell_type": "markdown",
      "source": [
        "####3.1.4) Int - Boolean"
      ],
      "metadata": {
        "id": "s9MjNod0bI_7"
      }
    },
    {
      "cell_type": "code",
      "source": [
        "print(12+True)\n",
        "print(12-False)\n",
        "print(12*True)\n",
        "print(12/True)\n",
        "print(12//True)\n",
        "print(12%True)\n",
        "print(12**True)\n"
      ],
      "metadata": {
        "colab": {
          "base_uri": "https://localhost:8080/"
        },
        "id": "N-cEl4XMbW7Y",
        "outputId": "5474042b-f3b9-4d16-ca86-a6b1fb0a121e"
      },
      "execution_count": null,
      "outputs": [
        {
          "output_type": "stream",
          "name": "stdout",
          "text": [
            "13\n",
            "12\n",
            "12\n",
            "12.0\n",
            "12\n",
            "0\n",
            "12\n"
          ]
        }
      ]
    },
    {
      "cell_type": "markdown",
      "source": [
        "####3.2.1) Float - Float"
      ],
      "metadata": {
        "id": "OL0v6phCcyHZ"
      }
    },
    {
      "cell_type": "code",
      "source": [
        "print(12.5+5.5)\n",
        "print(12.5-5.5)\n",
        "print(12.5*5.5)\n",
        "print(12.5/5.5)\n",
        "print(12.5//5.5)\n",
        "print(12.5%5.5)\n",
        "print(12.5**5.5)\n"
      ],
      "metadata": {
        "colab": {
          "base_uri": "https://localhost:8080/"
        },
        "id": "knZON1EIdEmm",
        "outputId": "8c408f5b-2a48-4d60-e371-13d92d48d635"
      },
      "execution_count": null,
      "outputs": [
        {
          "output_type": "stream",
          "name": "stdout",
          "text": [
            "18.0\n",
            "7.0\n",
            "68.75\n",
            "2.272727272727273\n",
            "2.0\n",
            "1.5\n",
            "1078959.3218788872\n"
          ]
        }
      ]
    },
    {
      "cell_type": "markdown",
      "source": [
        "####3.2.2) Float - Boolean"
      ],
      "metadata": {
        "id": "sq3MHM5idowg"
      }
    },
    {
      "cell_type": "code",
      "source": [
        "print(12.5+True)\n",
        "print(12.5-False)\n",
        "print(12.5*True)\n",
        "print(12.5/True)\n",
        "print(12.5//True)\n",
        "print(12.5%True)\n",
        "print(12.5**True)\n"
      ],
      "metadata": {
        "colab": {
          "base_uri": "https://localhost:8080/"
        },
        "id": "4_QR4Cjte_2B",
        "outputId": "25334830-cd63-448c-c9d5-38792aea0320"
      },
      "execution_count": null,
      "outputs": [
        {
          "output_type": "stream",
          "name": "stdout",
          "text": [
            "13.5\n",
            "12.5\n",
            "12.5\n",
            "12.5\n",
            "12.0\n",
            "0.5\n",
            "12.5\n"
          ]
        }
      ]
    },
    {
      "cell_type": "markdown",
      "source": [
        "####3.3.1) String -String"
      ],
      "metadata": {
        "id": "GJtfztAEgDbN"
      }
    },
    {
      "cell_type": "code",
      "source": [
        "print('suraj' + 'gupta')\n",
        "\n"
      ],
      "metadata": {
        "colab": {
          "base_uri": "https://localhost:8080/"
        },
        "id": "r97B9sVvgRqd",
        "outputId": "a66ae8dd-e0b9-4c0e-80b5-5f26638edebc"
      },
      "execution_count": 1,
      "outputs": [
        {
          "output_type": "stream",
          "name": "stdout",
          "text": [
            "surajgupta\n"
          ]
        }
      ]
    },
    {
      "cell_type": "markdown",
      "source": [
        "####3.3.2 String - Boolean"
      ],
      "metadata": {
        "id": "LDvbDG4aDqdM"
      }
    },
    {
      "cell_type": "code",
      "source": [
        "print('suraj' * True)\n",
        "print('gupta' * False)\n"
      ],
      "metadata": {
        "colab": {
          "base_uri": "https://localhost:8080/"
        },
        "id": "hEXm6gjpD_te",
        "outputId": "96c478ef-96f4-4d89-a1db-9df9131dc515"
      },
      "execution_count": 13,
      "outputs": [
        {
          "output_type": "stream",
          "name": "stdout",
          "text": [
            "suraj\n",
            "\n"
          ]
        }
      ]
    },
    {
      "cell_type": "markdown",
      "source": [
        "####3.4.1 ) Boolean - Boolean"
      ],
      "metadata": {
        "id": "P6r0mWMtEyGN"
      }
    },
    {
      "cell_type": "code",
      "source": [
        "print(True+True)\n",
        "print(True-False)\n",
        "print(True*False)\n",
        "print(True/True)\n",
        "print(True % True)\n",
        "print(True//True)\n",
        "print(True**False)"
      ],
      "metadata": {
        "colab": {
          "base_uri": "https://localhost:8080/"
        },
        "id": "1ZlJOJpDE-qj",
        "outputId": "e5ade8ae-c846-4544-f79f-8b7f6797e8f4"
      },
      "execution_count": 21,
      "outputs": [
        {
          "output_type": "stream",
          "name": "stdout",
          "text": [
            "2\n",
            "1\n",
            "0\n",
            "1.0\n",
            "0\n",
            "1\n",
            "1\n"
          ]
        }
      ]
    },
    {
      "cell_type": "markdown",
      "source": [
        "##3.2) Comparison"
      ],
      "metadata": {
        "id": "Vr2LdGySHi8d"
      }
    },
    {
      "cell_type": "code",
      "source": [
        "print(10>5)\n",
        "print(10<5)\n",
        "print(10==5)\n",
        "print(10!=5)\n",
        "print(5>=5)\n",
        "print(10<=5)"
      ],
      "metadata": {
        "colab": {
          "base_uri": "https://localhost:8080/"
        },
        "id": "b8CNkoAKHkMx",
        "outputId": "8d1f925e-50a9-4988-a3ec-5d0fd533e4d5"
      },
      "execution_count": 29,
      "outputs": [
        {
          "output_type": "stream",
          "name": "stdout",
          "text": [
            "True\n",
            "False\n",
            "False\n",
            "True\n",
            "True\n",
            "False\n",
            "False\n"
          ]
        }
      ]
    },
    {
      "cell_type": "markdown",
      "source": [
        "##3.3) Logical\n",
        "\n"
      ],
      "metadata": {
        "id": "5AUkJrzdIi0q"
      }
    },
    {
      "cell_type": "code",
      "source": [
        "n = 70\n",
        "\n",
        "print((n%7 == 0) and (n%5 == 0))\n",
        "print((n%7 == 0) or (n%5 == 0))\n",
        "\n",
        "print((n%7 == 0) and (n%5 == 0) and not (n%9 == 0))\n",
        "print((n%7 == 0) and (n%5 == 0) and not (n%9 == 0) and (n%2 == 0))\n",
        ""
      ],
      "metadata": {
        "colab": {
          "base_uri": "https://localhost:8080/"
        },
        "id": "WP_FB-NSIpvR",
        "outputId": "8e6cf510-2d0c-4399-be88-55868a6ad386"
      },
      "execution_count": 30,
      "outputs": [
        {
          "output_type": "stream",
          "name": "stdout",
          "text": [
            "True\n",
            "True\n",
            "True\n",
            "True\n"
          ]
        }
      ]
    },
    {
      "cell_type": "markdown",
      "source": [
        "#4. Typecasting"
      ],
      "metadata": {
        "id": "s7NbTumiJDrb"
      }
    },
    {
      "cell_type": "markdown",
      "source": [
        "####4.1) Int"
      ],
      "metadata": {
        "id": "6kotN2mIJbxF"
      }
    },
    {
      "cell_type": "code",
      "source": [
        "print(int(12.99999))\n",
        "print(int('4623'))\n",
        "print(int(True))\n",
        "print(int(False))"
      ],
      "metadata": {
        "colab": {
          "base_uri": "https://localhost:8080/"
        },
        "id": "AE5EDG7ZJWfW",
        "outputId": "b0f2504e-20fe-4668-f337-786bba9f7dea"
      },
      "execution_count": 31,
      "outputs": [
        {
          "output_type": "stream",
          "name": "stdout",
          "text": [
            "12\n",
            "4623\n",
            "1\n",
            "0\n"
          ]
        }
      ]
    },
    {
      "cell_type": "markdown",
      "source": [
        "####4.2) Float"
      ],
      "metadata": {
        "id": "oQZN3GNBJocW"
      }
    },
    {
      "cell_type": "code",
      "source": [
        "print(float(12))\n",
        "print(float('462332'))\n",
        "print(float(True))\n",
        "print(float(False))\n",
        ""
      ],
      "metadata": {
        "colab": {
          "base_uri": "https://localhost:8080/"
        },
        "id": "A564xLoUJtQi",
        "outputId": "b62f80fc-e3e7-48b8-b618-d8d6fef912a1"
      },
      "execution_count": 32,
      "outputs": [
        {
          "output_type": "stream",
          "name": "stdout",
          "text": [
            "12.0\n",
            "462332.0\n",
            "1.0\n",
            "0.0\n"
          ]
        }
      ]
    },
    {
      "cell_type": "markdown",
      "source": [
        "####4.3) Boolean"
      ],
      "metadata": {
        "id": "kKujxlsjJymA"
      }
    },
    {
      "cell_type": "code",
      "source": [
        "print(bool(1))\n",
        "print(bool(0.0))\n",
        "print(bool(' 1.0'))\n",
        ""
      ],
      "metadata": {
        "colab": {
          "base_uri": "https://localhost:8080/"
        },
        "id": "NmD6c8TJJ3PB",
        "outputId": "2fbe6fdb-1ee1-4205-d56b-05161b91b5dd"
      },
      "execution_count": 34,
      "outputs": [
        {
          "output_type": "stream",
          "name": "stdout",
          "text": [
            "True\n",
            "False\n",
            "True\n"
          ]
        }
      ]
    }
  ]
}
