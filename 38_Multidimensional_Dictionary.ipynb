{
  "nbformat": 4,
  "nbformat_minor": 0,
  "metadata": {
    "colab": {
      "provenance": [],
      "authorship_tag": "ABX9TyOPc9XrJdxGIJ0QxZqGX6qj",
      "include_colab_link": true
    },
    "kernelspec": {
      "name": "python3",
      "display_name": "Python 3"
    },
    "language_info": {
      "name": "python"
    }
  },
  "cells": [
    {
      "cell_type": "markdown",
      "metadata": {
        "id": "view-in-github",
        "colab_type": "text"
      },
      "source": [
        "<a href=\"https://colab.research.google.com/github/Surajgupta5294/Data_Analytics_Course_-in-GFG-/blob/main/38_Multidimensional_Dictionary.ipynb\" target=\"_parent\"><img src=\"https://colab.research.google.com/assets/colab-badge.svg\" alt=\"Open In Colab\"/></a>"
      ]
    },
    {
      "cell_type": "markdown",
      "source": [
        "# Multidimensional_Dictionary"
      ],
      "metadata": {
        "id": "CggCxAgZ5uZY"
      }
    },
    {
      "cell_type": "code",
      "execution_count": null,
      "metadata": {
        "colab": {
          "base_uri": "https://localhost:8080/"
        },
        "id": "i5xHZlZe342J",
        "outputId": "8d3a9c2a-8761-403b-b39c-508a33d448c4"
      },
      "outputs": [
        {
          "output_type": "stream",
          "name": "stdout",
          "text": [
            "{10001: {'name': 'Suraj', 'marks': {'english': 42, 'hindi': 45, 'maths': 36}, 'phone_no': [9324012]}, 10002: {'name': 'Virat', 'marks': {'english': 42, 'hindi': 45, 'maths': 32}, 'phone_no': [9324012, 312331, 123123]}, 10003: {'name': 'Ansh', 'marks': {'english': 42, 'hindi': 45, 'maths': 35}, 'phone_no': [9324012]}}\n"
          ]
        }
      ],
      "source": [
        "students = {10001 : {'name': 'Suraj', 'marks' : {'english' : 42,'hindi':45, 'maths' : 36}, 'phone_no' : [9324012]},\n",
        "            10002 : {'name': 'Virat', 'marks' : {'english' : 42,'hindi':45, 'maths' : 32}, 'phone_no' : [9324012,312331,123123]},\n",
        "            10003 : {'name': 'Ansh' , 'marks' : {'english' : 42,'hindi':45,'maths' : 35} , 'phone_no' : [9324012]}}\n",
        "print(students)\n"
      ]
    },
    {
      "cell_type": "markdown",
      "source": [
        "### Accessing the Element"
      ],
      "metadata": {
        "id": "-W8ikW085qOy"
      }
    },
    {
      "cell_type": "code",
      "source": [
        "print(students)\n",
        "print(students[10001])\n",
        "print(students[10003]['name'])\n"
      ],
      "metadata": {
        "colab": {
          "base_uri": "https://localhost:8080/"
        },
        "id": "ZyKmnpNf5ptE",
        "outputId": "921ddcdc-0924-4b46-da0d-120f1f294cab"
      },
      "execution_count": null,
      "outputs": [
        {
          "output_type": "stream",
          "name": "stdout",
          "text": [
            "{10001: {'name': 'Suraj', 'marks': {'english': 42, 'hindi': 45, 'maths': 36}, 'phone_no': [9324012]}, 10002: {'name': 'Virat', 'marks': {'english': 42, 'hindi': 45, 'maths': 32}, 'phone_no': [9324012, 312331, 123123]}, 10003: {'name': 'Ansh', 'marks': {'english': 42, 'hindi': 45, 'maths': 35}, 'phone_no': [9324012]}}\n",
            "{'name': 'Suraj', 'marks': {'english': 42, 'hindi': 45, 'maths': 36}, 'phone_no': [9324012]}\n",
            "Ansh\n"
          ]
        }
      ]
    },
    {
      "cell_type": "markdown",
      "source": [
        "### Adding"
      ],
      "metadata": {
        "id": "whSDGv1t6aN0"
      }
    },
    {
      "cell_type": "code",
      "source": [
        "print(students)\n",
        "students[10004] = {'name': 'yash','marks':{'english' : 40, 'hindi': 42,'maths': 35},'phone_no':[36963266]}\n",
        "print(students)\n"
      ],
      "metadata": {
        "colab": {
          "base_uri": "https://localhost:8080/"
        },
        "id": "pcT_0Gwe6ezq",
        "outputId": "c755a1a5-966a-41b6-e2f5-2eb4a60a0e23"
      },
      "execution_count": null,
      "outputs": [
        {
          "output_type": "stream",
          "name": "stdout",
          "text": [
            "{10001: {'name': 'Suraj', 'marks': {'english': 42, 'hindi': 45, 'maths': 36}, 'phone_no': [9324012]}, 10002: {'name': 'Virat', 'marks': {'english': 42, 'hindi': 45, 'maths': 32}, 'phone_no': [9324012, 312331, 123123]}, 10003: {'name': 'Ansh', 'marks': {'english': 42, 'hindi': 45, 'maths': 35}, 'phone_no': [9324012]}}\n",
            "{10001: {'name': 'Suraj', 'marks': {'english': 42, 'hindi': 45, 'maths': 36}, 'phone_no': [9324012]}, 10002: {'name': 'Virat', 'marks': {'english': 42, 'hindi': 45, 'maths': 32}, 'phone_no': [9324012, 312331, 123123]}, 10003: {'name': 'Ansh', 'marks': {'english': 42, 'hindi': 45, 'maths': 35}, 'phone_no': [9324012]}, 10004: {'name': 'yash', 'marks': {'english': 40, 'hindi': 42, 'maths': 35}, 'phone_no': [36963266]}}\n"
          ]
        }
      ]
    },
    {
      "cell_type": "markdown",
      "source": [
        "### Updating"
      ],
      "metadata": {
        "id": "7fK8FoKz7oyk"
      }
    },
    {
      "cell_type": "code",
      "source": [
        "print(students)\n",
        "students[10004]['name']='yashiii'\n",
        "print(students)\n"
      ],
      "metadata": {
        "colab": {
          "base_uri": "https://localhost:8080/"
        },
        "id": "DN9UCBIw7rzI",
        "outputId": "c6b071ba-2d3c-477b-fcf2-5e3b07ef0b3a"
      },
      "execution_count": null,
      "outputs": [
        {
          "output_type": "stream",
          "name": "stdout",
          "text": [
            "{10001: {'name': 'Suraj', 'marks': {'english': 42, 'hindi': 45, 'maths': 36}, 'phone_no': [9324012]}, 10002: {'name': 'Virat', 'marks': {'english': 42, 'hindi': 45, 'maths': 32}, 'phone_no': [9324012, 312331, 123123]}, 10003: {'name': 'Ansh', 'marks': {'english': 42, 'hindi': 45, 'maths': 35}, 'phone_no': [9324012]}, 10004: {'name': 'yash', 'marks': {'english': 40, 'hindi': 42, 'maths': 35}, 'phone_no': [36963266]}}\n",
            "{10001: {'name': 'Suraj', 'marks': {'english': 42, 'hindi': 45, 'maths': 36}, 'phone_no': [9324012]}, 10002: {'name': 'Virat', 'marks': {'english': 42, 'hindi': 45, 'maths': 32}, 'phone_no': [9324012, 312331, 123123]}, 10003: {'name': 'Ansh', 'marks': {'english': 42, 'hindi': 45, 'maths': 35}, 'phone_no': [9324012]}, 10004: {'name': 'yashiii', 'marks': {'english': 40, 'hindi': 42, 'maths': 35}, 'phone_no': [36963266]}}\n"
          ]
        }
      ]
    },
    {
      "cell_type": "markdown",
      "source": [
        "### Deleting"
      ],
      "metadata": {
        "id": "t1OBdlTg8BFX"
      }
    },
    {
      "cell_type": "code",
      "source": [
        "print(students)\n",
        "del students[10004]\n",
        "print(students)\n"
      ],
      "metadata": {
        "colab": {
          "base_uri": "https://localhost:8080/"
        },
        "id": "3cMrQKLl8E2T",
        "outputId": "d0887a20-c5fe-40c9-b482-14bd246fad98"
      },
      "execution_count": null,
      "outputs": [
        {
          "output_type": "stream",
          "name": "stdout",
          "text": [
            "{10001: {'name': 'Suraj', 'marks': {'english': 42, 'hindi': 45, 'maths': 36}, 'phone_no': [9324012]}, 10002: {'name': 'Virat', 'marks': {'english': 42, 'hindi': 45, 'maths': 32}, 'phone_no': [9324012, 312331, 123123]}, 10003: {'name': 'Ansh', 'marks': {'english': 42, 'hindi': 45, 'maths': 35}, 'phone_no': [9324012]}, 10004: {'name': 'yashiii', 'marks': {'english': 40, 'hindi': 42, 'maths': 35}, 'phone_no': [36963266]}}\n",
            "{10001: {'name': 'Suraj', 'marks': {'english': 42, 'hindi': 45, 'maths': 36}, 'phone_no': [9324012]}, 10002: {'name': 'Virat', 'marks': {'english': 42, 'hindi': 45, 'maths': 32}, 'phone_no': [9324012, 312331, 123123]}, 10003: {'name': 'Ansh', 'marks': {'english': 42, 'hindi': 45, 'maths': 35}, 'phone_no': [9324012]}}\n"
          ]
        }
      ]
    },
    {
      "cell_type": "markdown",
      "source": [
        "### Going through the Data"
      ],
      "metadata": {
        "id": "j9etP7Nr9iH8"
      }
    },
    {
      "cell_type": "code",
      "source": [
        "print(students)\n",
        "for i in students.keys():\n",
        "  print(i,students[i] ['name'],students[i]['phone_no'],students[i]['marks']['maths'])"
      ],
      "metadata": {
        "colab": {
          "base_uri": "https://localhost:8080/"
        },
        "id": "xZwNe90u9rJQ",
        "outputId": "50efdec9-25ca-4a26-e6f0-7a1df8879135"
      },
      "execution_count": null,
      "outputs": [
        {
          "output_type": "stream",
          "name": "stdout",
          "text": [
            "{10001: {'name': 'Suraj', 'marks': {'english': 42, 'hindi': 45, 'maths': 36}, 'phone_no': [9324012]}, 10002: {'name': 'Virat', 'marks': {'english': 42, 'hindi': 45, 'maths': 32}, 'phone_no': [9324012, 312331, 123123]}, 10003: {'name': 'Ansh', 'marks': {'english': 42, 'hindi': 45, 'maths': 35}, 'phone_no': [9324012]}}\n",
            "10001 Suraj [9324012] 36\n",
            "10002 Virat [9324012, 312331, 123123] 32\n",
            "10003 Ansh [9324012] 35\n"
          ]
        }
      ]
    },
    {
      "cell_type": "markdown",
      "source": [
        "### Calculate the total & average marks"
      ],
      "metadata": {
        "id": "WL_nY0CNNSjw"
      }
    },
    {
      "cell_type": "code",
      "source": [
        "students = {10001 : {'name': 'Suraj', 'marks' : {'english' : 42,'hindi':45, 'maths': 46}, 'phone_no' : [9324012]},\n",
        "            10002 : {'name': 'Virat', 'marks' : {'english' : 42,'hindi':45, 'maths' : 32}, 'phone_no' : [9324012,312331,123123]},\n",
        "            10003 : {'name': 'Ansh' , 'marks' : {'english' : 42,'hindi':45, 'maths': 40 }, 'phone_no' : [9324012]}}\n",
        "\n",
        "for roll_no in students.keys():\n",
        "\n",
        "  total_marks = sum(students[roll_no]['marks'].values())\n",
        "  average = round(sum(students[roll_no]['marks'].values()) / len(students[roll_no]['marks'].values()),2)\n",
        "\n",
        "  students[roll_no]['total'] = total_marks\n",
        "  students[roll_no]['average'] = average\n",
        "\n",
        "  print('Name    : ', students[roll_no]['name'])\n",
        "  print('Roll No : ', roll_no)\n",
        "  print('Marks   : ', students[roll_no]['total'])\n",
        "  print('Avegrage: ', students[roll_no]['average'])\n",
        "\n",
        "  print('-'*25)"
      ],
      "metadata": {
        "colab": {
          "base_uri": "https://localhost:8080/"
        },
        "id": "D7knN_C0MqqJ",
        "outputId": "bc3768e9-a3e8-4006-e28b-782e1e8a9615"
      },
      "execution_count": 2,
      "outputs": [
        {
          "output_type": "stream",
          "name": "stdout",
          "text": [
            "Name    :  Suraj\n",
            "Roll No :  10001\n",
            "Marks   :  133\n",
            "Avegrage:  44.33\n",
            "-------------------------\n",
            "Name    :  Virat\n",
            "Roll No :  10002\n",
            "Marks   :  119\n",
            "Avegrage:  39.67\n",
            "-------------------------\n",
            "Name    :  Ansh\n",
            "Roll No :  10003\n",
            "Marks   :  127\n",
            "Avegrage:  42.33\n",
            "-------------------------\n"
          ]
        }
      ]
    },
    {
      "cell_type": "markdown",
      "source": [],
      "metadata": {
        "id": "P1laVlnsMqUJ"
      }
    }
  ]
}